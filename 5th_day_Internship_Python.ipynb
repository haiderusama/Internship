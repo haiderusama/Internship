{
  "nbformat": 4,
  "nbformat_minor": 0,
  "metadata": {
    "colab": {
      "provenance": []
    },
    "kernelspec": {
      "name": "python3",
      "display_name": "Python 3"
    },
    "language_info": {
      "name": "python"
    }
  },
  "cells": [
    {
      "cell_type": "code",
      "source": [
        "print(ord(\"G\"))"
      ],
      "metadata": {
        "colab": {
          "base_uri": "https://localhost:8080/"
        },
        "id": "9JM-YIywecxB",
        "outputId": "5ff41cbe-386a-4f7e-9e95-50b24c3b924f"
      },
      "execution_count": null,
      "outputs": [
        {
          "output_type": "stream",
          "name": "stdout",
          "text": [
            "71\n"
          ]
        }
      ]
    },
    {
      "cell_type": "code",
      "source": [
        "#OOP\n",
        "class partyanimal:\n",
        "  x=0\n",
        "  def party(self):\n",
        "    self.x = self.x + 1\n",
        "    print(\"So far\",self.x)\n",
        "an=partyanimal()\n",
        "an.party()\n",
        "an.party()\n",
        "an.party()\n",
        "print(dir(an))"
      ],
      "metadata": {
        "colab": {
          "base_uri": "https://localhost:8080/"
        },
        "id": "ExTzCnjbSb7y",
        "outputId": "e74d2272-e229-4c68-b948-3d695a4bb8dd"
      },
      "execution_count": 3,
      "outputs": [
        {
          "output_type": "stream",
          "name": "stdout",
          "text": [
            "So far 1\n",
            "So far 2\n",
            "So far 3\n",
            "['__class__', '__delattr__', '__dict__', '__dir__', '__doc__', '__eq__', '__format__', '__ge__', '__getattribute__', '__gt__', '__hash__', '__init__', '__init_subclass__', '__le__', '__lt__', '__module__', '__ne__', '__new__', '__reduce__', '__reduce_ex__', '__repr__', '__setattr__', '__sizeof__', '__str__', '__subclasshook__', '__weakref__', 'party', 'x']\n"
          ]
        }
      ]
    },
    {
      "cell_type": "markdown",
      "source": [
        "Constructor & Destructor"
      ],
      "metadata": {
        "id": "8VVcmJjmbjAU"
      }
    },
    {
      "cell_type": "code",
      "source": [
        "class partyanimal:\n",
        "  x=0\n",
        "\n",
        "  def __init__(self):\n",
        "    print(\"usama haider\")\n",
        "  def party(self):\n",
        "    self.x = self.x + 1\n",
        "    print(\"So far\",self.x)\n",
        "  def __del__(self):\n",
        "    print(\"i am desctructor\", self.x)\n",
        "an=partyanimal()\n",
        "an.party()\n",
        "an.party()\n",
        "an.party()\n",
        "an=42\n",
        "\n",
        "print(dir(an))"
      ],
      "metadata": {
        "colab": {
          "base_uri": "https://localhost:8080/"
        },
        "id": "izzR0nXbSkZa",
        "outputId": "7d86ed54-ceb6-445d-9a7a-1d08661c04ff"
      },
      "execution_count": 5,
      "outputs": [
        {
          "output_type": "stream",
          "name": "stdout",
          "text": [
            "usama haider\n",
            "So far 1\n",
            "So far 2\n",
            "So far 3\n",
            "i am desctructor 3\n",
            "['__abs__', '__add__', '__and__', '__bool__', '__ceil__', '__class__', '__delattr__', '__dir__', '__divmod__', '__doc__', '__eq__', '__float__', '__floor__', '__floordiv__', '__format__', '__ge__', '__getattribute__', '__getnewargs__', '__gt__', '__hash__', '__index__', '__init__', '__init_subclass__', '__int__', '__invert__', '__le__', '__lshift__', '__lt__', '__mod__', '__mul__', '__ne__', '__neg__', '__new__', '__or__', '__pos__', '__pow__', '__radd__', '__rand__', '__rdivmod__', '__reduce__', '__reduce_ex__', '__repr__', '__rfloordiv__', '__rlshift__', '__rmod__', '__rmul__', '__ror__', '__round__', '__rpow__', '__rrshift__', '__rshift__', '__rsub__', '__rtruediv__', '__rxor__', '__setattr__', '__sizeof__', '__str__', '__sub__', '__subclasshook__', '__truediv__', '__trunc__', '__xor__', 'as_integer_ratio', 'bit_count', 'bit_length', 'conjugate', 'denominator', 'from_bytes', 'imag', 'numerator', 'real', 'to_bytes']\n"
          ]
        }
      ]
    },
    {
      "cell_type": "code",
      "source": [
        "class partyanimal:\n",
        "  x=0\n",
        "  name=\"\"\n",
        "  def __init__(self,z):\n",
        "    self.name = z\n",
        "    print(self.name,\"constructed\")\n",
        "  def party(self):\n",
        "    self.x = self.x + 1\n",
        "    print(self.name,\":arty count\",self.x)\n",
        "s= partyanimal(\"usama\")\n",
        "s.party()\n",
        "\n",
        "j=partyanimal(\"Wasi\")\n",
        "j.party()\n",
        "j.party()\n",
        "s.party()\n",
        "\n"
      ],
      "metadata": {
        "colab": {
          "base_uri": "https://localhost:8080/"
        },
        "id": "fhWySy_pe3h9",
        "outputId": "61f9863d-e514-4eed-af33-c408d95ff5a8"
      },
      "execution_count": 9,
      "outputs": [
        {
          "output_type": "stream",
          "name": "stdout",
          "text": [
            "usama constructed\n",
            "usama :arty count 1\n",
            "Wasi constructed\n",
            "Wasi :arty count 1\n",
            "Wasi :arty count 2\n",
            "usama :arty count 2\n"
          ]
        }
      ]
    },
    {
      "cell_type": "code",
      "source": [],
      "metadata": {
        "id": "evuWZxRciglY"
      },
      "execution_count": null,
      "outputs": []
    }
  ]
}