{
  "cells": [
    {
      "cell_type": "markdown",
      "metadata": {
        "id": "IylybUUtRDuB"
      },
      "source": [
        "XML = <>\n",
        "Json = {}\n",
        "Two formats of file during from one server to other through internet"
      ]
    },
    {
      "cell_type": "code",
      "execution_count": null,
      "metadata": {
        "colab": {
          "base_uri": "https://localhost:8080/"
        },
        "id": "CkDG0ws5RPUA",
        "outputId": "6d87ee59-f5de-43f0-85e9-2d532755dfe6"
      },
      "outputs": [
        {
          "name": "stdout",
          "output_type": "stream",
          "text": [
            "Enter the URL: https://py4e-data.dr-chuck.net/comments_1917593.html\n",
            "Count 50\n",
            "Sum 2571\n"
          ]
        }
      ],
      "source": [
        "import urllib.request, urllib.parse, urllib.error\n",
        "from bs4 import BeautifulSoup\n",
        "\n",
        "# Input URL\n",
        "url = input(\"Enter the URL: \")\n",
        "\n",
        "# Read and parse the HTML\n",
        "html = urllib.request.urlopen(url).read()\n",
        "soup = BeautifulSoup(html, 'html.parser')\n",
        "\n",
        "# Find all the span tags\n",
        "tags = soup('span')\n",
        "\n",
        "# Initialize count and sum variables\n",
        "count = 0\n",
        "total = 0\n",
        "\n",
        "# Loop through the span tags and extract and sum the numbers\n",
        "for tag in tags:\n",
        "    count += 1\n",
        "    total += int(tag.contents[0])\n",
        "\n",
        "# Print the count and sum\n",
        "print(\"Count\", count)\n",
        "print(\"Sum\", total)\n"
      ]
    },
    {
      "cell_type": "code",
      "execution_count": null,
      "metadata": {
        "colab": {
          "base_uri": "https://localhost:8080/"
        },
        "id": "nkytM3UPrwIm",
        "outputId": "bf68924c-10ac-4320-f5c5-bfcb241bbfa2"
      },
      "outputs": [
        {
          "name": "stdout",
          "output_type": "stream",
          "text": [
            "Enter URL: http://py4e-data.dr-chuck.net/known_by_Zeenat.html\n",
            "Enter count: 18\n",
            "Enter position: 7\n",
            "Retrieving: http://py4e-data.dr-chuck.net/known_by_Zeenat.html\n",
            "Retrieving: http://py4e-data.dr-chuck.net/known_by_Deegan.html\n",
            "Retrieving: http://py4e-data.dr-chuck.net/known_by_Larissa.html\n",
            "Retrieving: http://py4e-data.dr-chuck.net/known_by_Leyton.html\n",
            "Retrieving: http://py4e-data.dr-chuck.net/known_by_Jem.html\n",
            "Retrieving: http://py4e-data.dr-chuck.net/known_by_Chrismedi.html\n",
            "Retrieving: http://py4e-data.dr-chuck.net/known_by_Amara.html\n",
            "Retrieving: http://py4e-data.dr-chuck.net/known_by_Marcus.html\n",
            "Retrieving: http://py4e-data.dr-chuck.net/known_by_Elana.html\n",
            "Retrieving: http://py4e-data.dr-chuck.net/known_by_Kavita.html\n",
            "Retrieving: http://py4e-data.dr-chuck.net/known_by_Brier.html\n",
            "Retrieving: http://py4e-data.dr-chuck.net/known_by_Brieghanna.html\n",
            "Retrieving: http://py4e-data.dr-chuck.net/known_by_Mahasen.html\n",
            "Retrieving: http://py4e-data.dr-chuck.net/known_by_Farhan.html\n",
            "Retrieving: http://py4e-data.dr-chuck.net/known_by_Brendan.html\n",
            "Retrieving: http://py4e-data.dr-chuck.net/known_by_Fergus.html\n",
            "Retrieving: http://py4e-data.dr-chuck.net/known_by_Loudon.html\n",
            "Retrieving: http://py4e-data.dr-chuck.net/known_by_Natalie.html\n",
            "The answer to the assignment is: Chloe\n"
          ]
        }
      ],
      "source": [
        "import urllib.request, urllib.parse, urllib.error\n",
        "from bs4 import BeautifulSoup\n",
        "\n",
        "# Input URL, count, and position\n",
        "url = input(\"Enter URL: \")\n",
        "count = int(input(\"Enter count: \"))\n",
        "position = int(input(\"Enter position: \"))\n",
        "\n",
        "for i in range(count):\n",
        "    print(\"Retrieving:\", url)\n",
        "    html = urllib.request.urlopen(url).read()\n",
        "    soup = BeautifulSoup(html, 'html.parser')\n",
        "\n",
        "    # Find all anchor tags\n",
        "    tags = soup('a')\n",
        "\n",
        "    # Navigate to the next link at the specified position\n",
        "    link = tags[position - 1]\n",
        "    url = link.get('href')\n",
        "\n",
        "# Extract the last name from the final URL\n",
        "last_name = url.split('_')[2].split('.')[0]\n",
        "\n",
        "# Print the last name\n",
        "print(\"The answer to the assignment is:\", last_name)\n"
      ]
    },
    {
      "cell_type": "code",
      "execution_count": null,
      "metadata": {
        "colab": {
          "base_uri": "https://localhost:8080/"
        },
        "id": "BEb7cGfAuJbS",
        "outputId": "bf519049-a770-464c-ce69-f2db1295b5f9"
      },
      "outputs": [
        {
          "name": "stdout",
          "output_type": "stream",
          "text": [
            "Enter URL: http://py4e-data.dr-chuck.net/known_by_Zeenat.html\n",
            "Enter count: 7\n",
            "Enter position: 18\n",
            "Retrieving: http://py4e-data.dr-chuck.net/known_by_Alfred.html\n",
            "Retrieving: http://py4e-data.dr-chuck.net/known_by_Sineidin.html\n",
            "Retrieving: http://py4e-data.dr-chuck.net/known_by_Neeve.html\n",
            "Retrieving: http://py4e-data.dr-chuck.net/known_by_Taddy.html\n",
            "Retrieving: http://py4e-data.dr-chuck.net/known_by_Alexis.html\n",
            "Retrieving: http://py4e-data.dr-chuck.net/known_by_Elysa.html\n",
            "Retrieving: http://py4e-data.dr-chuck.net/known_by_Rheanan.html\n",
            "The answer to the assignment for this execution is \"Rheanan\"\n"
          ]
        }
      ],
      "source": [
        "import urllib.request, urllib.parse, urllib.error\n",
        "from bs4 import BeautifulSoup\n",
        "\n",
        "url = input('Enter URL: ')\n",
        "count = int(input('Enter count: '))\n",
        "position = int(input(\"Enter position: \"))\n",
        "\n",
        "for i in range(count):\n",
        "    html = urllib.request.urlopen(url).read()\n",
        "    soup = BeautifulSoup(html, 'html.parser')\n",
        "\n",
        "    # Find all anchor tags in the page\n",
        "    tags = soup('a')\n",
        "    # Select the link at the specified position (0-based index)\n",
        "    tag = tags[position - 1]\n",
        "    url = tag.get('href')\n",
        "    name = tag.contents[0]\n",
        "\n",
        "    print(f'Retrieving: {url}')\n",
        "\n",
        "print(f'The answer to the assignment for this execution is \"{name}\"')\n"
      ]
    },
    {
      "cell_type": "code",
      "execution_count": null,
      "metadata": {
        "colab": {
          "base_uri": "https://localhost:8080/"
        },
        "id": "AlDuZ8yWvLKj",
        "outputId": "40876167-d3d8-488c-db97-d7402fad0792"
      },
      "outputs": [
        {
          "name": "stdout",
          "output_type": "stream",
          "text": [
            "Enter location: http://py4e-data.dr-chuck.net/comments_1917595.xml\n",
            "Retrieving http://py4e-data.dr-chuck.net/comments_1917595.xml\n",
            "Retrieved 4220 characters\n",
            "Count: 50\n",
            "Sum: 2397\n"
          ]
        }
      ],
      "source": [
        "import urllib.request, urllib.parse, urllib.error\n",
        "import xml.etree.ElementTree as ET\n",
        "\n",
        "url = input('Enter location: ')\n",
        "print(f'Retrieving {url}')\n",
        "xml_data = urllib.request.urlopen(url).read()\n",
        "print(f'Retrieved {len(xml_data)} characters')\n",
        "\n",
        "# Parse the XML data\n",
        "tree = ET.fromstring(xml_data)\n",
        "\n",
        "# Find all <count> elements in the XML using XPath\n",
        "counts = tree.findall('.//count')\n",
        "\n",
        "# Initialize variables to keep track of count and sum\n",
        "count_sum = 0\n",
        "for count in counts:\n",
        "    count_sum += int(count.text)\n",
        "\n",
        "print(f'Count: {len(counts)}')\n",
        "print(f'Sum: {count_sum}')\n"
      ]
    },
    {
      "cell_type": "code",
      "execution_count": null,
      "metadata": {
        "colab": {
          "base_uri": "https://localhost:8080/"
        },
        "id": "z3zhZChYvz1d",
        "outputId": "79b98998-0e31-4c1d-dc91-ca4a22388ba7"
      },
      "outputs": [
        {
          "name": "stdout",
          "output_type": "stream",
          "text": [
            "Enter location: http://py4e-data.dr-chuck.net/comments_1917596.json\n",
            "Retrieving http://py4e-data.dr-chuck.net/comments_1917596.json\n",
            "Retrieved 2726 characters\n",
            "Count: 50\n",
            "Sum: 2365\n"
          ]
        }
      ],
      "source": [
        "import urllib.request, urllib.parse, urllib.error\n",
        "import json\n",
        "\n",
        "url = input('Enter location: ')\n",
        "print(f'Retrieving {url}')\n",
        "json_data = urllib.request.urlopen(url).read().decode()\n",
        "\n",
        "try:\n",
        "    data = json.loads(json_data)\n",
        "except:\n",
        "    data = None\n",
        "\n",
        "if not data:\n",
        "    print(\"Error parsing JSON data.\")\n",
        "    exit()\n",
        "\n",
        "comments = data.get('comments', [])\n",
        "\n",
        "count_sum = 0\n",
        "\n",
        "for comment in comments:\n",
        "    count = comment.get('count', 0)\n",
        "    count_sum += count\n",
        "\n",
        "print(f'Retrieved {len(json_data)} characters')\n",
        "print(f'Count: {len(comments)}')\n",
        "print(f'Sum: {count_sum}')\n"
      ]
    },
    {
      "cell_type": "code",
      "execution_count": null,
      "metadata": {
        "colab": {
          "background_save": true,
          "base_uri": "https://localhost:8080/"
        },
        "id": "X2lltIF7x4ze",
        "outputId": "beec8c12-78c6-405f-81ea-de337c492548"
      },
      "outputs": [
        {
          "name": "stdout",
          "output_type": "stream",
          "text": [
            "Retrieving http://py4e-data.dr-chuck.net/json?address=Czech+Technical+University+in+Prague&key=42\n",
            "Retrieved 2344 characters\n",
            "Place id  ChIJfdcOwDuVC0cRauSpkQC7C8k\n"
          ]
        }
      ],
      "source": [
        "import urllib.request, urllib.parse, urllib.error\n",
        "import json\n",
        "import ssl\n",
        "\n",
        "api_key = False\n",
        "\n",
        "if api_key is False:\n",
        "    api_key = 42\n",
        "    serviceurl = 'http://py4e-data.dr-chuck.net/json?'\n",
        "else :\n",
        "    serviceurl = 'https://maps.googleapis.com/maps/api/geocode/json?'\n",
        "\n",
        "# Ignore SSL certificate errors\n",
        "ctx = ssl.create_default_context()\n",
        "ctx.check_hostname = False\n",
        "ctx.verify_mode = ssl.CERT_NONE\n",
        "\n",
        "while True:\n",
        "    address = input('Enter location: ')\n",
        "    if len(address) < 1: break\n",
        "\n",
        "    parms = dict()\n",
        "    parms['address'] = address\n",
        "    if api_key is not False: parms['key'] = api_key\n",
        "    url = serviceurl + urllib.parse.urlencode(parms)\n",
        "\n",
        "    print('Retrieving', url)\n",
        "    uh = urllib.request.urlopen(url, context=ctx)\n",
        "    data = uh.read().decode()\n",
        "    print('Retrieved', len(data), 'characters')\n",
        "\n",
        "    try:\n",
        "        js = json.loads(data)\n",
        "    except:\n",
        "        js = None\n",
        "\n",
        "    if not js or 'status' not in js or js['status'] != 'OK':\n",
        "        print('==== Failure To Retrieve ====')\n",
        "        print(data)\n",
        "        continue\n",
        "\n",
        "    # print(json.dumps(js, indent=4))\n",
        "\n",
        "    pid = js['results'][0]['place_id']\n",
        "    print('Place id ',pid)"
      ]
    }
  ],
  "metadata": {
    "colab": {
      "provenance": []
    },
    "kernelspec": {
      "display_name": "Python 3",
      "name": "python3"
    },
    "language_info": {
      "name": "python"
    }
  },
  "nbformat": 4,
  "nbformat_minor": 0
}